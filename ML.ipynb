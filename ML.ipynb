{
 "cells": [
  {
   "cell_type": "markdown",
   "id": "cf6d7772",
   "metadata": {},
   "source": [
    "# Feature Scaling\n",
    "## 1-Normalization\n",
    "## 2-Standardization"
   ]
  },
  {
   "cell_type": "markdown",
   "id": "83f26fe5",
   "metadata": {},
   "source": [
    "## 1- normalization\n",
    "\n",
    "<img src=\"norm.png\" style=\"width:500px;height:250px\">"
   ]
  },
  {
   "cell_type": "markdown",
   "id": "7101cd56",
   "metadata": {},
   "source": [
    "###  #The first step to do is to import the preprocessing module from the sklearn library and then import MinMaxScalar\n",
    "### # take an object from minmaxscaler --> scaling=MinMaxScaler()\n",
    "### # pass in your column to the object --> scaling.fit_transform(x\n",
    "### the returned values are in the range (0 to 1)\n"
   ]
  },
  {
   "cell_type": "code",
   "execution_count": 10,
   "id": "b61353fd",
   "metadata": {},
   "outputs": [
    {
     "data": {
      "text/plain": [
       "(    Volume  CO2\n",
       " 0     1000   99\n",
       " 1     1200   95\n",
       " 2     1000   95\n",
       " 3      900   90\n",
       " 4     1500  105\n",
       " 5     1000  105\n",
       " 6     1400   90\n",
       " 7     1500   92\n",
       " 8     1500   98\n",
       " 9     1600   99\n",
       " 10    1100   99\n",
       " 11    1300  101\n",
       " 12    1000   99\n",
       " 13    1600   94\n",
       " 14    1600   97\n",
       " 15    1600   97\n",
       " 16    1600   99\n",
       " 17    2200  104\n",
       " 18    1600  104\n",
       " 19    2000  105\n",
       " 20    1600   94\n",
       " 21    2000   99\n",
       " 22    2100   99\n",
       " 23    1600   99\n",
       " 24    2000   99\n",
       " 25    1500  102\n",
       " 26    2000  104\n",
       " 27    2000  114\n",
       " 28    1600  109\n",
       " 29    2000  114\n",
       " 30    2100  115\n",
       " 31    2000  117\n",
       " 32    1600  104\n",
       " 33    1600  108\n",
       " 34    1600  109\n",
       " 35    2500  120,\n",
       " array([[0.0625    , 0.3       ],\n",
       "        [0.1875    , 0.16666667],\n",
       "        [0.0625    , 0.16666667],\n",
       "        [0.        , 0.        ],\n",
       "        [0.375     , 0.5       ],\n",
       "        [0.0625    , 0.5       ],\n",
       "        [0.3125    , 0.        ],\n",
       "        [0.375     , 0.06666667],\n",
       "        [0.375     , 0.26666667],\n",
       "        [0.4375    , 0.3       ],\n",
       "        [0.125     , 0.3       ],\n",
       "        [0.25      , 0.36666667],\n",
       "        [0.0625    , 0.3       ],\n",
       "        [0.4375    , 0.13333333],\n",
       "        [0.4375    , 0.23333333],\n",
       "        [0.4375    , 0.23333333],\n",
       "        [0.4375    , 0.3       ],\n",
       "        [0.8125    , 0.46666667],\n",
       "        [0.4375    , 0.46666667],\n",
       "        [0.6875    , 0.5       ],\n",
       "        [0.4375    , 0.13333333],\n",
       "        [0.6875    , 0.3       ],\n",
       "        [0.75      , 0.3       ],\n",
       "        [0.4375    , 0.3       ],\n",
       "        [0.6875    , 0.3       ],\n",
       "        [0.375     , 0.4       ],\n",
       "        [0.6875    , 0.46666667],\n",
       "        [0.6875    , 0.8       ],\n",
       "        [0.4375    , 0.63333333],\n",
       "        [0.6875    , 0.8       ],\n",
       "        [0.75      , 0.83333333],\n",
       "        [0.6875    , 0.9       ],\n",
       "        [0.4375    , 0.46666667],\n",
       "        [0.4375    , 0.6       ],\n",
       "        [0.4375    , 0.63333333],\n",
       "        [1.        , 1.        ]]))"
      ]
     },
     "execution_count": 10,
     "metadata": {},
     "output_type": "execute_result"
    }
   ],
   "source": [
    "import pandas as pd\n",
    "import numpy as np\n",
    "from sklearn.preprocessing import MinMaxScaler\n",
    "data=pd.read_csv(\"data1.csv\")\n",
    "x=data[[\"Volume\",\"CO2\"]]\n",
    "scaling=MinMaxScaler()\n",
    "x1=scaling.fit_transform(x)\n",
    "x,x1\n"
   ]
  },
  {
   "cell_type": "code",
   "execution_count": 37,
   "id": "eabea4a7",
   "metadata": {},
   "outputs": [
    {
     "name": "stdout",
     "output_type": "stream",
     "text": [
      "Volume    1611.111111\n",
      "CO2        102.027778\n",
      "dtype: float64\n",
      "Volume    900\n",
      "CO2        90\n",
      "dtype: int64\n",
      "Volume    2500\n",
      "CO2        120\n",
      "dtype: int64\n"
     ]
    },
    {
     "data": {
      "text/plain": [
       "0.0625"
      ]
     },
     "execution_count": 37,
     "metadata": {},
     "output_type": "execute_result"
    }
   ],
   "source": [
    "# let's take the first row from the list and check how the values are made\n",
    "# first row --> 0.0625,0.3\n",
    "print(x.mean(0))\n",
    "print(x.min(0))\n",
    "print(x.max(0))\n",
    "#x1(0.0625)\n",
    "\n",
    "x1=(x.iloc[0,0]-x[\"Volume\"].min())/(x[\"Volume\"].max()-x[\"Volume\"].min())\n",
    "x1\n",
    "\n"
   ]
  },
  {
   "cell_type": "markdown",
   "id": "cd9d85a3",
   "metadata": {},
   "source": [
    "## 2-Standardization\n",
    "<img src=\"std.png\" style=\"width:500px;height:250px\">\n"
   ]
  },
  {
   "cell_type": "markdown",
   "id": "0bacf216",
   "metadata": {},
   "source": [
    "### #The first step to do is to import the preprocessing module from the sklearn library \n",
    "### # and then import StandardScaler\n",
    "### # take an object from StandardScaler --> scaling=StandardScaler()\n",
    "### # pass in your data to the object --> scaling.fit_transform(x)\n",
    "### mean=0 , std=1"
   ]
  },
  {
   "cell_type": "code",
   "execution_count": 6,
   "id": "d3eab3b5",
   "metadata": {},
   "outputs": [
    {
     "name": "stdout",
     "output_type": "stream",
     "text": [
      "[[-1.59336644 -0.41192538]\n",
      " [-1.07190106 -0.95612037]\n",
      " [-1.59336644 -0.95612037]\n",
      " [-1.85409913 -1.63636411]\n",
      " [-0.28970299  0.40436711]\n",
      " [-1.59336644  0.40436711]\n",
      " [-0.55043568 -1.63636411]\n",
      " [-0.28970299 -1.36426661]\n",
      " [-0.28970299 -0.54797412]\n",
      " [-0.0289703  -0.41192538]\n",
      " [-1.33263375 -0.41192538]\n",
      " [-0.81116837 -0.13982788]\n",
      " [-1.59336644 -0.41192538]\n",
      " [-0.0289703  -1.09216911]\n",
      " [-0.0289703  -0.68402287]\n",
      " [-0.0289703  -0.68402287]\n",
      " [-0.0289703  -0.41192538]\n",
      " [ 1.53542584  0.26831836]\n",
      " [-0.0289703   0.26831836]\n",
      " [ 1.01396046  0.40436711]\n",
      " [-0.0289703  -1.09216911]\n",
      " [ 1.01396046 -0.41192538]\n",
      " [ 1.27469315 -0.41192538]\n",
      " [-0.0289703  -0.41192538]\n",
      " [ 1.01396046 -0.41192538]\n",
      " [-0.28970299 -0.00377913]\n",
      " [ 1.01396046  0.26831836]\n",
      " [ 1.01396046  1.62880584]\n",
      " [-0.0289703   0.9485621 ]\n",
      " [ 1.01396046  1.62880584]\n",
      " [ 1.27469315  1.76485459]\n",
      " [ 1.01396046  2.03695208]\n",
      " [-0.0289703   0.26831836]\n",
      " [-0.0289703   0.81251335]\n",
      " [-0.0289703   0.9485621 ]\n",
      " [ 2.31762392  2.44509833]]\n"
     ]
    }
   ],
   "source": [
    "from sklearn.preprocessing import StandardScaler\n",
    "x=data[[\"Volume\",\"CO2\"]]\n",
    "scaling=StandardScaler()\n",
    "x=scaling.fit_transform(x)\n",
    "print(x)"
   ]
  },
  {
   "cell_type": "markdown",
   "id": "72f32468",
   "metadata": {},
   "source": [
    "# Example 1\n",
    "### linear regression\n",
    "### find relationship between datapoints in 2 different ways"
   ]
  },
  {
   "cell_type": "markdown",
   "id": "d49d345d",
   "metadata": {},
   "source": [
    "## #1: by using scipy\n"
   ]
  },
  {
   "cell_type": "code",
   "execution_count": 13,
   "id": "5cbf3cb5",
   "metadata": {},
   "outputs": [],
   "source": [
    "import pandas as pd\n",
    "import numpy as np\n",
    "import matplotlib.pyplot as plt\n",
    "from scipy import stats \n",
    "x = [5,7,8,7,2,17,2,9,4,11,12,9,6]\n",
    "y =[99,86,87,88,111,86,103,87,94,78,77,85,86]\n"
   ]
  },
  {
   "cell_type": "code",
   "execution_count": 14,
   "id": "63d33065",
   "metadata": {},
   "outputs": [
    {
     "name": "stdout",
     "output_type": "stream",
     "text": [
      "-0.758591524376155\n"
     ]
    }
   ],
   "source": [
    "# stats from scipy compute all the below values which are really important to check if there is a good relationship \n",
    "# bring slope and intercept in order to create the equation --> m,b --> y=mX+b\n",
    "slope, intercept, r,p, std_err = stats.linregress(x, y) \n",
    "print(r)\n"
   ]
  },
  {
   "cell_type": "code",
   "execution_count": 15,
   "id": "f61681d3",
   "metadata": {},
   "outputs": [],
   "source": [
    "def func(x):\n",
    "    return slope * x + intercept"
   ]
  },
  {
   "cell_type": "code",
   "execution_count": 16,
   "id": "bde2490d",
   "metadata": {},
   "outputs": [],
   "source": [
    "new_y=list(map(func,x)) # this is the y values you will need to draw the line"
   ]
  },
  {
   "cell_type": "code",
   "execution_count": 17,
   "id": "56bcf6af",
   "metadata": {},
   "outputs": [
    {
     "data": {
      "image/png": "[encoded data removed]",
      "text/plain": [
       "<Figure size 432x288 with 1 Axes>"
      ]
     },
     "metadata": {
      "needs_background": "light"
     },
     "output_type": "display_data"
    },
    {
     "name": "stdout",
     "output_type": "stream",
     "text": [
      "<module 'numpy' from '/Users/ahmedarif/opt/anaconda3/lib/python3.9/site-packages/numpy/__init__.py'>\n",
      "[ 7.61538462 89.76923077]\n"
     ]
    }
   ],
   "source": [
    "# draw the line and plot the actual x,y points\n",
    "plt.scatter(x,y)\n",
    "plt.plot(x,new_y)\n",
    "plt.show()\n",
    "print(np)\n",
    "print(np.mean([x,y],1)) # mean of x and y"
   ]
  },
  {
   "cell_type": "markdown",
   "id": "5d353b52",
   "metadata": {},
   "source": [
    "### coefficient of correlation r"
   ]
  },
  {
   "cell_type": "code",
   "execution_count": 18,
   "id": "42ee9873",
   "metadata": {},
   "outputs": [
    {
     "name": "stdout",
     "output_type": "stream",
     "text": [
      "-0.758591524376155\n"
     ]
    }
   ],
   "source": [
    "print(r)"
   ]
  },
  {
   "cell_type": "code",
   "execution_count": null,
   "id": "0e122901",
   "metadata": {},
   "outputs": [],
   "source": [
    "# r(the coefficient of correlation )= -0.759 which means the relationship between the two datapoints is good\n",
    "# The r value ranges from -1 to 1 , where 0 means no relationship, and 1 (and -1) means 100% related.\n"
   ]
  },
  {
   "cell_type": "markdown",
   "id": "397d54b9",
   "metadata": {},
   "source": [
    "## #2: only by using numpy"
   ]
  },
  {
   "cell_type": "code",
   "execution_count": 59,
   "id": "ba7ad8fa",
   "metadata": {},
   "outputs": [
    {
     "name": "stdout",
     "output_type": "stream",
     "text": [
      "89.76923076114791\n"
     ]
    },
    {
     "data": {
      "text/plain": [
       "<function matplotlib.pyplot.show(close=None, block=None)>"
      ]
     },
     "execution_count": 59,
     "metadata": {},
     "output_type": "execute_result"
    },
    {
     "data": {
      "image/png": "[encoded data removed]",
      "text/plain": [
       "<Figure size 432x288 with 1 Axes>"
      ]
     },
     "metadata": {
      "needs_background": "light"
     },
     "output_type": "display_data"
    }
   ],
   "source": [
    "coeff=np.polyfit(x,y,1) # 1 means i want it to be a linear polynomial function(first degree polynomial) mx+b\n",
    "f1=np.poly1d(coeff)\n",
    "print(f1(7.61538462))\n",
    "plt.scatter(x,y) # the same as before\n",
    "plt.plot(x,f1(x)) # instead of new_y in the previous method, now i use f1 which is the real function\n",
    "plt.show"
   ]
  },
  {
   "cell_type": "markdown",
   "id": "b65c7f58",
   "metadata": {},
   "source": [
    "# Example 2"
   ]
  },
  {
   "cell_type": "code",
   "execution_count": 6,
   "id": "5fc0dee3",
   "metadata": {},
   "outputs": [
    {
     "name": "stdout",
     "output_type": "stream",
     "text": [
      "0.01331814154297491\n"
     ]
    }
   ],
   "source": [
    "x=[89,43,36,36,95,10,66,34,38,20,26,29,48,64,6,5,36,66,72,40]\n",
    "y=[21,46,3,35,67,95,53,72,58,10,26,34,90,33,38,20,56,2,47,15]\n",
    "slope, intercept, r,p, std_err = stats.linregress(x, y)\n",
    "print(r)"
   ]
  },
  {
   "cell_type": "code",
   "execution_count": 72,
   "id": "49ee8741",
   "metadata": {},
   "outputs": [],
   "source": [
    "# r= 0.01331, this value is too low and it tells that the relationship to bad, so this dateset is not suitable for llinear regression"
   ]
  },
  {
   "cell_type": "markdown",
   "id": "f4896cd4",
   "metadata": {},
   "source": [
    "## -------------------------------------------------------------"
   ]
  },
  {
   "cell_type": "markdown",
   "id": "30f69520",
   "metadata": {},
   "source": [
    "# Splitting Datasets to train and test dataset\n",
    "### we use       train_test_split() "
   ]
  },
  {
   "cell_type": "code",
   "execution_count": 11,
   "id": "c9a603c2",
   "metadata": {},
   "outputs": [],
   "source": [
    "#You need to import train_test_split() and NumPy \n",
    "import numpy as np\n",
    "from sklearn.model_selection import train_test_split\n",
    "import pandas as pd\n",
    "\n"
   ]
  },
  {
   "cell_type": "code",
   "execution_count": 12,
   "id": "da75e85d",
   "metadata": {},
   "outputs": [],
   "source": [
    "# train_test_split(x, y)\n",
    "# you get four parameters back from the above function\n",
    "# x_train, x_test, y_train, y_test "
   ]
  },
  {
   "cell_type": "code",
   "execution_count": 13,
   "id": "76e41195",
   "metadata": {},
   "outputs": [],
   "source": [
    "# our dataset:\n",
    "x = [5,7,8,7,2,17,2,9,4,11,12,9,6]\n",
    "y =[99,86,87,88,111,86,103,87,94,78,77,85,86]"
   ]
  },
  {
   "cell_type": "code",
   "execution_count": 15,
   "id": "c2e0a3a3",
   "metadata": {},
   "outputs": [
    {
     "data": {
      "text/plain": [
       "[7, 9, 9, 2]"
      ]
     },
     "execution_count": 15,
     "metadata": {},
     "output_type": "execute_result"
    }
   ],
   "source": [
    "x_train, x_test, y_train, y_test = train_test_split(x, y,test_size=4,random_state=10)\n",
    "x_test"
   ]
  },
  {
   "cell_type": "markdown",
   "id": "2e98036c",
   "metadata": {},
   "source": [
    "# Example\n",
    "\n",
    "#### in this example,i will make a linear regression model in two different ways:\n",
    "\n",
    "1- by using poly1d, polyfit together, \n",
    "\n",
    "2- by using LinearRegression function from sklearn.model_classification\n"
   ]
  },
  {
   "cell_type": "markdown",
   "id": "3725fb80",
   "metadata": {},
   "source": [
    "### first method"
   ]
  },
  {
   "cell_type": "code",
   "execution_count": 10,
   "id": "bcff2a5d",
   "metadata": {
    "scrolled": false
   },
   "outputs": [
    {
     "data": {
      "image/png": "[encoded data removed]",
      "text/plain": [
       "<Figure size 432x288 with 1 Axes>"
      ]
     },
     "metadata": {
      "needs_background": "light"
     },
     "output_type": "display_data"
    }
   ],
   "source": [
    "f=np.poly1d(np.polyfit(x_train,y_train,1)) \n",
    "# polyfit will return the coefficients and poly1d makes the equation based on this coefficients\n",
    "plt.scatter(x_train,y_train)               \n",
    "plt.plot(x_train,f(x_train))\n",
    "plt.show()\n"
   ]
  },
  {
   "cell_type": "code",
   "execution_count": 11,
   "id": "fe2ac670",
   "metadata": {},
   "outputs": [
    {
     "name": "stdout",
     "output_type": "stream",
     "text": [
      "[7, 9, 9, 2]\n",
      "[88, 87, 85, 103]\n",
      "[90.96705426 87.6996124  87.6996124  99.13565891]\n"
     ]
    }
   ],
   "source": [
    "#let's predict\n",
    "print(x_test)\n",
    "print(y_test) # our model should return values close to y values that was put into test dataests\n",
    "predict=f(x_test)\n",
    "print(predict)"
   ]
  },
  {
   "cell_type": "markdown",
   "id": "8f58d5ee",
   "metadata": {},
   "source": [
    "### second method --> LinearRegression"
   ]
  },
  {
   "cell_type": "code",
   "execution_count": 39,
   "id": "883bdfb4",
   "metadata": {},
   "outputs": [
    {
     "data": {
      "text/html": [
       "<div>\n",
       "<style scoped>\n",
       "    .dataframe tbody tr th:only-of-type {\n",
       "        vertical-align: middle;\n",
       "    }\n",
       "\n",
       "    .dataframe tbody tr th {\n",
       "        vertical-align: top;\n",
       "    }\n",
       "\n",
       "    .dataframe thead th {\n",
       "        text-align: right;\n",
       "    }\n",
       "</style>\n",
       "<table border=\"1\" class=\"dataframe\">\n",
       "  <thead>\n",
       "    <tr style=\"text-align: right;\">\n",
       "      <th></th>\n",
       "      <th>vx</th>\n",
       "      <th>vy</th>\n",
       "    </tr>\n",
       "  </thead>\n",
       "  <tbody>\n",
       "    <tr>\n",
       "      <th>0</th>\n",
       "      <td>5</td>\n",
       "      <td>99</td>\n",
       "    </tr>\n",
       "    <tr>\n",
       "      <th>1</th>\n",
       "      <td>7</td>\n",
       "      <td>86</td>\n",
       "    </tr>\n",
       "    <tr>\n",
       "      <th>2</th>\n",
       "      <td>8</td>\n",
       "      <td>87</td>\n",
       "    </tr>\n",
       "    <tr>\n",
       "      <th>3</th>\n",
       "      <td>7</td>\n",
       "      <td>88</td>\n",
       "    </tr>\n",
       "    <tr>\n",
       "      <th>4</th>\n",
       "      <td>2</td>\n",
       "      <td>111</td>\n",
       "    </tr>\n",
       "    <tr>\n",
       "      <th>5</th>\n",
       "      <td>17</td>\n",
       "      <td>86</td>\n",
       "    </tr>\n",
       "    <tr>\n",
       "      <th>6</th>\n",
       "      <td>2</td>\n",
       "      <td>103</td>\n",
       "    </tr>\n",
       "    <tr>\n",
       "      <th>7</th>\n",
       "      <td>9</td>\n",
       "      <td>87</td>\n",
       "    </tr>\n",
       "    <tr>\n",
       "      <th>8</th>\n",
       "      <td>4</td>\n",
       "      <td>94</td>\n",
       "    </tr>\n",
       "    <tr>\n",
       "      <th>9</th>\n",
       "      <td>11</td>\n",
       "      <td>78</td>\n",
       "    </tr>\n",
       "    <tr>\n",
       "      <th>10</th>\n",
       "      <td>12</td>\n",
       "      <td>77</td>\n",
       "    </tr>\n",
       "    <tr>\n",
       "      <th>11</th>\n",
       "      <td>9</td>\n",
       "      <td>85</td>\n",
       "    </tr>\n",
       "    <tr>\n",
       "      <th>12</th>\n",
       "      <td>6</td>\n",
       "      <td>86</td>\n",
       "    </tr>\n",
       "  </tbody>\n",
       "</table>\n",
       "</div>"
      ],
      "text/plain": [
       "    vx   vy\n",
       "0    5   99\n",
       "1    7   86\n",
       "2    8   87\n",
       "3    7   88\n",
       "4    2  111\n",
       "5   17   86\n",
       "6    2  103\n",
       "7    9   87\n",
       "8    4   94\n",
       "9   11   78\n",
       "10  12   77\n",
       "11   9   85\n",
       "12   6   86"
      ]
     },
     "execution_count": 39,
     "metadata": {},
     "output_type": "execute_result"
    }
   ],
   "source": [
    "from sklearn.linear_model import LinearRegression\n",
    "data=pd.read_csv(\"mycs.csv\")\n",
    "x=data.iloc[:,:-1].values\n",
    "y=data.iloc[:,1].values\n",
    "data\n"
   ]
  },
  {
   "cell_type": "code",
   "execution_count": 21,
   "id": "827767db",
   "metadata": {},
   "outputs": [
    {
     "name": "stdout",
     "output_type": "stream",
     "text": [
      "[[7]\n",
      " [9]\n",
      " [9]\n",
      " [2]]\n",
      "[ 88  87  85 103]\n"
     ]
    }
   ],
   "source": [
    "# split train and test data\n",
    "x_train, x_test, y_train, y_test = train_test_split(x, y,test_size=4,random_state=10)\n",
    "clf=LinearRegression()\n",
    "clf.fit(x_train,y_train)\n",
    "\n",
    "print(x_test)\n",
    "print(y_test)"
   ]
  },
  {
   "cell_type": "code",
   "execution_count": 46,
   "id": "eebd15b7",
   "metadata": {},
   "outputs": [
    {
     "name": "stdout",
     "output_type": "stream",
     "text": [
      "[90.96705426 87.6996124  87.6996124  99.13565891]\n"
     ]
    },
    {
     "data": {
      "text/plain": [
       "0.8460859210363448"
      ]
     },
     "execution_count": 46,
     "metadata": {},
     "output_type": "execute_result"
    }
   ],
   "source": [
    "print(clf.predict(x_test))\n",
    "clf.score(x_test,y_test) # score method compares y_values came from the model to actual y( y_test) values"
   ]
  },
  {
   "cell_type": "code",
   "execution_count": null,
   "id": "6ebc3f4d",
   "metadata": {},
   "outputs": [],
   "source": [
    "# conclusion: making the model by LinearRegression has the same result as the same model created by (poly1d,polyfit)"
   ]
  },
  {
   "cell_type": "markdown",
   "id": "9ce495dd",
   "metadata": {},
   "source": [
    "# Some explanation\n",
    "\n",
    "in order to apply LinearRegression model on a dataset, you first have to some adjustment to the Dataset.\n"
   ]
  },
  {
   "cell_type": "markdown",
   "id": "1449ff58",
   "metadata": {},
   "source": [
    "## case 1"
   ]
  },
  {
   "cell_type": "code",
   "execution_count": 20,
   "id": "f591dd89",
   "metadata": {},
   "outputs": [],
   "source": [
    "data=pd.read_csv(\"mycs.csv\")\n",
    "x=data[\"vx\"] \n",
    "y=data[\"vy\"]\n",
    "\n"
   ]
  },
  {
   "cell_type": "code",
   "execution_count": 21,
   "id": "dcf8698b",
   "metadata": {},
   "outputs": [
    {
     "name": "stdout",
     "output_type": "stream",
     "text": [
      "0      5\n",
      "1      7\n",
      "2      8\n",
      "3      7\n",
      "4      2\n",
      "5     17\n",
      "6      2\n",
      "7      9\n",
      "8      4\n",
      "9     11\n",
      "10    12\n",
      "11     9\n",
      "12     6\n",
      "Name: vx, dtype: int64\n",
      "0      99\n",
      "1      86\n",
      "2      87\n",
      "3      88\n",
      "4     111\n",
      "5      86\n",
      "6     103\n",
      "7      87\n",
      "8      94\n",
      "9      78\n",
      "10     77\n",
      "11     85\n",
      "12     86\n",
      "Name: vy, dtype: int64\n",
      "(13,)\n",
      "(13,)\n"
     ]
    }
   ],
   "source": [
    "print(x)\n",
    "print(y)\n",
    "print(x.shape)\n",
    "print(y.shape)"
   ]
  },
  {
   "cell_type": "code",
   "execution_count": 38,
   "id": "2f6670bd",
   "metadata": {},
   "outputs": [
    {
     "data": {
      "text/plain": [
       "LinearRegression()"
      ]
     },
     "execution_count": 38,
     "metadata": {},
     "output_type": "execute_result"
    }
   ],
   "source": [
    "# check if it's ready for LinearRegression model\n",
    "x_train, x_test, y_train, y_test = train_test_split(x, y,test_size=4,random_state=10)\n",
    "clf=LinearRegression()\n",
    "clf.fit(x_train,y_train)\n",
    "# it doesn't work\n",
    "# note: here we don't have any problem with y-axis, it's in the correct shape (13,)"
   ]
  },
  {
   "cell_type": "code",
   "execution_count": 24,
   "id": "6b17f6cc",
   "metadata": {},
   "outputs": [],
   "source": [
    "# we can't use x=data[\"vx\"] as its type = (13,), you have to reshape it\n",
    "x=data[[\"vx\"]]\n",
    "y=data[\"vy\"]"
   ]
  },
  {
   "cell_type": "code",
   "execution_count": 25,
   "id": "0b57ac37",
   "metadata": {},
   "outputs": [
    {
     "name": "stdout",
     "output_type": "stream",
     "text": [
      "(13, 1)\n",
      "(13,)\n"
     ]
    }
   ],
   "source": [
    "print(x.shape)\n",
    "print(y.shape)"
   ]
  },
  {
   "cell_type": "code",
   "execution_count": 39,
   "id": "b979fe54",
   "metadata": {},
   "outputs": [
    {
     "data": {
      "text/plain": [
       "LinearRegression()"
      ]
     },
     "execution_count": 39,
     "metadata": {},
     "output_type": "execute_result"
    }
   ],
   "source": [
    "# check if it's ready for LinearRegression model\n",
    "x_train, x_test, y_train, y_test = train_test_split(x, y,test_size=4,random_state=10)\n",
    "clf=LinearRegression()\n",
    "clf.fit(x_train,y_train)\n"
   ]
  },
  {
   "cell_type": "markdown",
   "id": "b0b2fe9b",
   "metadata": {},
   "source": [
    "## case 2"
   ]
  },
  {
   "cell_type": "code",
   "execution_count": 42,
   "id": "8570a357",
   "metadata": {},
   "outputs": [
    {
     "name": "stdout",
     "output_type": "stream",
     "text": [
      "(1, 13)\n"
     ]
    }
   ],
   "source": [
    "sx=[[5,7,8,7,2,17,2,9,4,11,12,9,6]]\n",
    "sx=np.array(sx)\n",
    "print(sx.shape)\n",
    "# as you can see, the shape of s is (1,13), you have to reshape it"
   ]
  },
  {
   "cell_type": "code",
   "execution_count": 43,
   "id": "47f36f82",
   "metadata": {},
   "outputs": [
    {
     "name": "stdout",
     "output_type": "stream",
     "text": [
      "(13, 1)\n"
     ]
    }
   ],
   "source": [
    "sx=sx.reshape(13,1)\n",
    "print(sx.shape)"
   ]
  },
  {
   "cell_type": "code",
   "execution_count": 44,
   "id": "45ead603",
   "metadata": {},
   "outputs": [
    {
     "name": "stdout",
     "output_type": "stream",
     "text": [
      "(13,)\n"
     ]
    }
   ],
   "source": [
    "# the y should be in shape (13,)\n",
    "sy=[99,86,87,88,111,86,103,87,94,78,77,85,86]\n",
    "sy=np.array(sy)\n",
    "print(sy.shape)"
   ]
  },
  {
   "cell_type": "markdown",
   "id": "3ed0b4e4",
   "metadata": {},
   "source": [
    "# confusion matrix\n"
   ]
  },
  {
   "cell_type": "code",
   "execution_count": null,
   "id": "bec25296",
   "metadata": {},
   "outputs": [],
   "source": []
  }
 ],
 "metadata": {
  "kernelspec": {
   "display_name": "Python 3 (ipykernel)",
   "language": "python",
   "name": "python3"
  },
  "language_info": {
   "codemirror_mode": {
    "name": "ipython",
    "version": 3
   },
   "file_extension": ".py",
   "mimetype": "text/x-python",
   "name": "python",
   "nbconvert_exporter": "python",
   "pygments_lexer": "ipython3",
   "version": "3.9.12"
  }
 },
 "nbformat": 4,
 "nbformat_minor": 5
}
